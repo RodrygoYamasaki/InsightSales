{
 "cells": [
  {
   "cell_type": "code",
   "execution_count": 1,
   "id": "58bfff52",
   "metadata": {},
   "outputs": [],
   "source": [
    "import pandas as pd"
   ]
  },
  {
   "cell_type": "code",
   "execution_count": 2,
   "id": "be226952",
   "metadata": {},
   "outputs": [],
   "source": [
    "df = pd.read_csv('../data/dados.csv')"
   ]
  },
  {
   "cell_type": "code",
   "execution_count": 3,
   "id": "83214414",
   "metadata": {},
   "outputs": [],
   "source": [
    "df.dropna(inplace=True)"
   ]
  },
  {
   "cell_type": "code",
   "execution_count": 4,
   "id": "fb54e9e9",
   "metadata": {},
   "outputs": [],
   "source": [
    "df['Produto'] = df['Produto'].str.replace('\"', '', regex=False)"
   ]
  },
  {
   "cell_type": "code",
   "execution_count": 5,
   "id": "f52fd423",
   "metadata": {},
   "outputs": [],
   "source": [
    "df['Data'] = pd.to_datetime(df['Data'])"
   ]
  },
  {
   "cell_type": "code",
   "execution_count": 6,
   "id": "af4dc12c",
   "metadata": {},
   "outputs": [],
   "source": [
    "df['Valor_Total'] = df['Quantidade'] * df['Preco_Unitario']"
   ]
  },
  {
   "cell_type": "code",
   "execution_count": 9,
   "id": "135dc32b",
   "metadata": {},
   "outputs": [],
   "source": [
    "df.to_csv(\"dados_limpos.csv\", index=False)"
   ]
  }
 ],
 "metadata": {
  "kernelspec": {
   "display_name": "Python 3",
   "language": "python",
   "name": "python3"
  },
  "language_info": {
   "codemirror_mode": {
    "name": "ipython",
    "version": 3
   },
   "file_extension": ".py",
   "mimetype": "text/x-python",
   "name": "python",
   "nbconvert_exporter": "python",
   "pygments_lexer": "ipython3",
   "version": "3.13.4"
  }
 },
 "nbformat": 4,
 "nbformat_minor": 5
}
