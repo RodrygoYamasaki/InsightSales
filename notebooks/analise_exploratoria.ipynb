{
 "cells": [
  {
   "cell_type": "code",
   "execution_count": 1,
   "id": "8484f137",
   "metadata": {},
   "outputs": [],
   "source": [
    "import pandas as pd"
   ]
  },
  {
   "cell_type": "markdown",
   "id": "6b8a5435",
   "metadata": {},
   "source": [
    "# Carregar o dataset"
   ]
  },
  {
   "cell_type": "code",
   "execution_count": 2,
   "id": "e0c1df03",
   "metadata": {},
   "outputs": [],
   "source": [
    "df = pd.read_csv('../data/dados_limpos.csv')"
   ]
  },
  {
   "cell_type": "markdown",
   "id": "0b41290e",
   "metadata": {},
   "source": [
    "# Visualizar as 5 primeiras linhas"
   ]
  },
  {
   "cell_type": "code",
   "execution_count": 3,
   "id": "2f053e90",
   "metadata": {},
   "outputs": [
    {
     "data": {
      "text/html": [
       "<div>\n",
       "<style scoped>\n",
       "    .dataframe tbody tr th:only-of-type {\n",
       "        vertical-align: middle;\n",
       "    }\n",
       "\n",
       "    .dataframe tbody tr th {\n",
       "        vertical-align: top;\n",
       "    }\n",
       "\n",
       "    .dataframe thead th {\n",
       "        text-align: right;\n",
       "    }\n",
       "</style>\n",
       "<table border=\"1\" class=\"dataframe\">\n",
       "  <thead>\n",
       "    <tr style=\"text-align: right;\">\n",
       "      <th></th>\n",
       "      <th>Data</th>\n",
       "      <th>Produto</th>\n",
       "      <th>Categoria</th>\n",
       "      <th>Quantidade</th>\n",
       "      <th>Preco_Unitario</th>\n",
       "      <th>Cliente</th>\n",
       "      <th>Regiao</th>\n",
       "      <th>Forma_Pagamento</th>\n",
       "      <th>Valor_Total</th>\n",
       "    </tr>\n",
       "  </thead>\n",
       "  <tbody>\n",
       "    <tr>\n",
       "      <th>0</th>\n",
       "      <td>2024-01-05</td>\n",
       "      <td>Notebook Gamer XP15</td>\n",
       "      <td>Eletrônicos</td>\n",
       "      <td>1</td>\n",
       "      <td>4500.00</td>\n",
       "      <td>Ana Silva</td>\n",
       "      <td>Sudeste</td>\n",
       "      <td>Cartão de Crédito</td>\n",
       "      <td>4500.00</td>\n",
       "    </tr>\n",
       "    <tr>\n",
       "      <th>1</th>\n",
       "      <td>2024-01-05</td>\n",
       "      <td>Mouse Óptico Z4</td>\n",
       "      <td>Acessórios</td>\n",
       "      <td>3</td>\n",
       "      <td>45.99</td>\n",
       "      <td>Bruno Costa</td>\n",
       "      <td>Nordeste</td>\n",
       "      <td>PIX</td>\n",
       "      <td>137.97</td>\n",
       "    </tr>\n",
       "    <tr>\n",
       "      <th>2</th>\n",
       "      <td>2024-01-06</td>\n",
       "      <td>Cafeteira Expresso 1.5L</td>\n",
       "      <td>Eletrodomésticos</td>\n",
       "      <td>1</td>\n",
       "      <td>399.90</td>\n",
       "      <td>Carlos Santos</td>\n",
       "      <td>Sul</td>\n",
       "      <td>Cartão de Crédito</td>\n",
       "      <td>399.90</td>\n",
       "    </tr>\n",
       "    <tr>\n",
       "      <th>3</th>\n",
       "      <td>2024-01-06</td>\n",
       "      <td>Fone Bluetooth X9</td>\n",
       "      <td>Eletrônicos</td>\n",
       "      <td>2</td>\n",
       "      <td>129.50</td>\n",
       "      <td>Daniela Oliveira</td>\n",
       "      <td>Centro-Oeste</td>\n",
       "      <td>Boleto</td>\n",
       "      <td>259.00</td>\n",
       "    </tr>\n",
       "    <tr>\n",
       "      <th>4</th>\n",
       "      <td>2024-01-07</td>\n",
       "      <td>Teclado Mecânico RGB</td>\n",
       "      <td>Acessórios</td>\n",
       "      <td>1</td>\n",
       "      <td>289.90</td>\n",
       "      <td>Eduardo Pereira</td>\n",
       "      <td>Sudeste</td>\n",
       "      <td>PIX</td>\n",
       "      <td>289.90</td>\n",
       "    </tr>\n",
       "  </tbody>\n",
       "</table>\n",
       "</div>"
      ],
      "text/plain": [
       "         Data                  Produto         Categoria  Quantidade  \\\n",
       "0  2024-01-05      Notebook Gamer XP15       Eletrônicos           1   \n",
       "1  2024-01-05          Mouse Óptico Z4        Acessórios           3   \n",
       "2  2024-01-06  Cafeteira Expresso 1.5L  Eletrodomésticos           1   \n",
       "3  2024-01-06        Fone Bluetooth X9       Eletrônicos           2   \n",
       "4  2024-01-07     Teclado Mecânico RGB        Acessórios           1   \n",
       "\n",
       "   Preco_Unitario           Cliente        Regiao    Forma_Pagamento  \\\n",
       "0         4500.00         Ana Silva       Sudeste  Cartão de Crédito   \n",
       "1           45.99       Bruno Costa      Nordeste                PIX   \n",
       "2          399.90     Carlos Santos           Sul  Cartão de Crédito   \n",
       "3          129.50  Daniela Oliveira  Centro-Oeste             Boleto   \n",
       "4          289.90   Eduardo Pereira       Sudeste                PIX   \n",
       "\n",
       "   Valor_Total  \n",
       "0      4500.00  \n",
       "1       137.97  \n",
       "2       399.90  \n",
       "3       259.00  \n",
       "4       289.90  "
      ]
     },
     "execution_count": 3,
     "metadata": {},
     "output_type": "execute_result"
    }
   ],
   "source": [
    "df.head()"
   ]
  },
  {
   "cell_type": "markdown",
   "id": "e6ef4d74",
   "metadata": {},
   "source": [
    "# Informações Gerais: Tipos de dados, valores não nulos"
   ]
  },
  {
   "cell_type": "code",
   "execution_count": 4,
   "id": "fc4f4789",
   "metadata": {},
   "outputs": [
    {
     "name": "stdout",
     "output_type": "stream",
     "text": [
      "<class 'pandas.core.frame.DataFrame'>\n",
      "RangeIndex: 54 entries, 0 to 53\n",
      "Data columns (total 9 columns):\n",
      " #   Column           Non-Null Count  Dtype  \n",
      "---  ------           --------------  -----  \n",
      " 0   Data             54 non-null     object \n",
      " 1   Produto          54 non-null     object \n",
      " 2   Categoria        54 non-null     object \n",
      " 3   Quantidade       54 non-null     int64  \n",
      " 4   Preco_Unitario   54 non-null     float64\n",
      " 5   Cliente          54 non-null     object \n",
      " 6   Regiao           54 non-null     object \n",
      " 7   Forma_Pagamento  54 non-null     object \n",
      " 8   Valor_Total      54 non-null     float64\n",
      "dtypes: float64(2), int64(1), object(6)\n",
      "memory usage: 3.9+ KB\n"
     ]
    }
   ],
   "source": [
    "df.info()"
   ]
  },
  {
   "cell_type": "markdown",
   "id": "38a2a9af",
   "metadata": {},
   "source": [
    "# Dimensões do dataset"
   ]
  },
  {
   "cell_type": "code",
   "execution_count": 8,
   "id": "13838bcc",
   "metadata": {},
   "outputs": [
    {
     "name": "stdout",
     "output_type": "stream",
     "text": [
      "\n",
      " Dimensões do dataset: 54 linhas e 9 colunas.\n"
     ]
    }
   ],
   "source": [
    "print(f\"\\n Dimensões do dataset: {df.shape[0]} linhas e {df.shape[1]} colunas.\")"
   ]
  },
  {
   "cell_type": "markdown",
   "id": "c9afc67c",
   "metadata": {},
   "source": [
    "# Estatísticas descritivas das variáveis numéricas"
   ]
  },
  {
   "cell_type": "code",
   "execution_count": 9,
   "id": "d128a1f5",
   "metadata": {},
   "outputs": [
    {
     "data": {
      "text/html": [
       "<div>\n",
       "<style scoped>\n",
       "    .dataframe tbody tr th:only-of-type {\n",
       "        vertical-align: middle;\n",
       "    }\n",
       "\n",
       "    .dataframe tbody tr th {\n",
       "        vertical-align: top;\n",
       "    }\n",
       "\n",
       "    .dataframe thead th {\n",
       "        text-align: right;\n",
       "    }\n",
       "</style>\n",
       "<table border=\"1\" class=\"dataframe\">\n",
       "  <thead>\n",
       "    <tr style=\"text-align: right;\">\n",
       "      <th></th>\n",
       "      <th>count</th>\n",
       "      <th>mean</th>\n",
       "      <th>std</th>\n",
       "      <th>min</th>\n",
       "      <th>25%</th>\n",
       "      <th>50%</th>\n",
       "      <th>75%</th>\n",
       "      <th>max</th>\n",
       "    </tr>\n",
       "  </thead>\n",
       "  <tbody>\n",
       "    <tr>\n",
       "      <th>Quantidade</th>\n",
       "      <td>54.0</td>\n",
       "      <td>1.555556</td>\n",
       "      <td>0.945030</td>\n",
       "      <td>1.00</td>\n",
       "      <td>1.0</td>\n",
       "      <td>1.00</td>\n",
       "      <td>2.0</td>\n",
       "      <td>5.0</td>\n",
       "    </tr>\n",
       "    <tr>\n",
       "      <th>Preco_Unitario</th>\n",
       "      <td>54.0</td>\n",
       "      <td>1219.015556</td>\n",
       "      <td>1646.260629</td>\n",
       "      <td>45.99</td>\n",
       "      <td>129.5</td>\n",
       "      <td>254.95</td>\n",
       "      <td>2800.0</td>\n",
       "      <td>4500.0</td>\n",
       "    </tr>\n",
       "    <tr>\n",
       "      <th>Valor_Total</th>\n",
       "      <td>54.0</td>\n",
       "      <td>1299.506481</td>\n",
       "      <td>1602.326864</td>\n",
       "      <td>45.99</td>\n",
       "      <td>180.0</td>\n",
       "      <td>399.90</td>\n",
       "      <td>2800.0</td>\n",
       "      <td>4500.0</td>\n",
       "    </tr>\n",
       "  </tbody>\n",
       "</table>\n",
       "</div>"
      ],
      "text/plain": [
       "                count         mean          std    min    25%     50%     75%  \\\n",
       "Quantidade       54.0     1.555556     0.945030   1.00    1.0    1.00     2.0   \n",
       "Preco_Unitario   54.0  1219.015556  1646.260629  45.99  129.5  254.95  2800.0   \n",
       "Valor_Total      54.0  1299.506481  1602.326864  45.99  180.0  399.90  2800.0   \n",
       "\n",
       "                   max  \n",
       "Quantidade         5.0  \n",
       "Preco_Unitario  4500.0  \n",
       "Valor_Total     4500.0  "
      ]
     },
     "execution_count": 9,
     "metadata": {},
     "output_type": "execute_result"
    }
   ],
   "source": [
    "df.describe().transpose()"
   ]
  }
 ],
 "metadata": {
  "kernelspec": {
   "display_name": "Python 3",
   "language": "python",
   "name": "python3"
  },
  "language_info": {
   "codemirror_mode": {
    "name": "ipython",
    "version": 3
   },
   "file_extension": ".py",
   "mimetype": "text/x-python",
   "name": "python",
   "nbconvert_exporter": "python",
   "pygments_lexer": "ipython3",
   "version": "3.13.4"
  }
 },
 "nbformat": 4,
 "nbformat_minor": 5
}
